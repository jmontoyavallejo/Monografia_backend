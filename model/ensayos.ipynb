{
 "cells": [
  {
   "cell_type": "code",
   "execution_count": 18,
   "metadata": {},
   "outputs": [],
   "source": [
    "from sklearn.preprocessing import MinMaxScaler\n",
    "import pickle\n",
    "import pandas as pd\n",
    "import numpy as np\n",
    "\n",
    "with open('trained_model-001.pkl', 'rb') as file:\n",
    "    model=pickle.load(file)\n",
    "with open('orden_variables_entrada_modelo.txt', 'r') as  doc:\n",
    "    lines=doc.readlines()\n",
    "orden_variables=[]\n",
    "for line in lines:\n",
    "    orden_variables.append(line.replace(\"\\n\",''))\n",
    "    "
   ]
  },
  {
   "cell_type": "code",
   "execution_count": 19,
   "metadata": {},
   "outputs": [],
   "source": [
    "df=pd.DataFrame(columns=orden_variables)"
   ]
  },
  {
   "cell_type": "code",
   "execution_count": 20,
   "metadata": {},
   "outputs": [],
   "source": [
    "answer={\"store_type\":\"Gourmet Supermarket\",\"store_state\":\"Zacatecas\",\"grocery_sqft\":\"15012\",\"frozen_sqft\":\"4193\",\"coffee_bar\":\"1\",\"video_store\":\"0\",\"prepared_food\":\"1\",\"florist\":\"0\",\"media_type\":\"Daily Paper\",\"marital_status\":\"M\",\"gender\":\"F\",\"total_children\":\"5\",\"education\":\"Partial College\",\"member_card\":\"Bronze\",\"occupation\":\"Professional\",\"houseowner\":\"N\",\"avg_cars_at home(approx)\":\"4\",\"avg. yearly_income\":\"$90K - $110K\",\"num_children_at_home\":\"4\",\"SRP\":\"2.8\",\"net_weight\":\"17.8\",\"recyclable_package\":\"1\",\"low_fat\":\"0\",\"units_per_case\":\"32\",\"food_family\":\"Food\",\"unit_sales(in millions)\":\"1\",\"promotion_name\":\"Price Smashers\",\"sales_country\":\"USA\"}\n"
   ]
  },
  {
   "cell_type": "code",
   "execution_count": 21,
   "metadata": {},
   "outputs": [
    {
     "data": {
      "text/html": [
       "<div>\n",
       "<style scoped>\n",
       "    .dataframe tbody tr th:only-of-type {\n",
       "        vertical-align: middle;\n",
       "    }\n",
       "\n",
       "    .dataframe tbody tr th {\n",
       "        vertical-align: top;\n",
       "    }\n",
       "\n",
       "    .dataframe thead th {\n",
       "        text-align: right;\n",
       "    }\n",
       "</style>\n",
       "<table border=\"1\" class=\"dataframe\">\n",
       "  <thead>\n",
       "    <tr style=\"text-align: right;\">\n",
       "      <th></th>\n",
       "      <th>store_type_Gourmet Supermarket</th>\n",
       "      <th>store_state_Zacatecas</th>\n",
       "      <th>grocery_sqft_15012</th>\n",
       "      <th>frozen_sqft_4193</th>\n",
       "      <th>coffee_bar_1</th>\n",
       "      <th>video_store_0</th>\n",
       "      <th>prepared_food_1</th>\n",
       "      <th>florist_0</th>\n",
       "      <th>media_type_Daily Paper</th>\n",
       "      <th>marital_status_M</th>\n",
       "      <th>...</th>\n",
       "      <th>num_children_at_home_4</th>\n",
       "      <th>SRP_2.8</th>\n",
       "      <th>net_weight_17.8</th>\n",
       "      <th>recyclable_package_1</th>\n",
       "      <th>low_fat_0</th>\n",
       "      <th>units_per_case_32</th>\n",
       "      <th>food_family_Food</th>\n",
       "      <th>unit_sales(in millions)_1</th>\n",
       "      <th>promotion_name_Price Smashers</th>\n",
       "      <th>sales_country_USA</th>\n",
       "    </tr>\n",
       "  </thead>\n",
       "  <tbody>\n",
       "    <tr>\n",
       "      <th>0</th>\n",
       "      <td>1</td>\n",
       "      <td>1</td>\n",
       "      <td>1</td>\n",
       "      <td>1</td>\n",
       "      <td>1</td>\n",
       "      <td>1</td>\n",
       "      <td>1</td>\n",
       "      <td>1</td>\n",
       "      <td>1</td>\n",
       "      <td>1</td>\n",
       "      <td>...</td>\n",
       "      <td>1</td>\n",
       "      <td>1</td>\n",
       "      <td>1</td>\n",
       "      <td>1</td>\n",
       "      <td>1</td>\n",
       "      <td>1</td>\n",
       "      <td>1</td>\n",
       "      <td>1</td>\n",
       "      <td>1</td>\n",
       "      <td>1</td>\n",
       "    </tr>\n",
       "  </tbody>\n",
       "</table>\n",
       "<p>1 rows × 28 columns</p>\n",
       "</div>"
      ],
      "text/plain": [
       "   store_type_Gourmet Supermarket  store_state_Zacatecas  grocery_sqft_15012  \\\n",
       "0                               1                      1                   1   \n",
       "\n",
       "   frozen_sqft_4193  coffee_bar_1  video_store_0  prepared_food_1  florist_0  \\\n",
       "0                 1             1              1                1          1   \n",
       "\n",
       "   media_type_Daily Paper  marital_status_M  ...  num_children_at_home_4  \\\n",
       "0                       1                 1  ...                       1   \n",
       "\n",
       "   SRP_2.8  net_weight_17.8  recyclable_package_1  low_fat_0  \\\n",
       "0        1                1                     1          1   \n",
       "\n",
       "   units_per_case_32  food_family_Food  unit_sales(in millions)_1  \\\n",
       "0                  1                 1                          1   \n",
       "\n",
       "   promotion_name_Price Smashers  sales_country_USA  \n",
       "0                              1                  1  \n",
       "\n",
       "[1 rows x 28 columns]"
      ]
     },
     "execution_count": 21,
     "metadata": {},
     "output_type": "execute_result"
    }
   ],
   "source": [
    "df_response=pd.DataFrame(answer,index=[0])\n",
    "df_response_dummies=pd.get_dummies(df_response)\n",
    "df_response_dummies\n"
   ]
  }
 ],
 "metadata": {
  "kernelspec": {
   "display_name": "base",
   "language": "python",
   "name": "python3"
  },
  "language_info": {
   "codemirror_mode": {
    "name": "ipython",
    "version": 3
   },
   "file_extension": ".py",
   "mimetype": "text/x-python",
   "name": "python",
   "nbconvert_exporter": "python",
   "pygments_lexer": "ipython3",
   "version": "3.9.13"
  },
  "orig_nbformat": 4,
  "vscode": {
   "interpreter": {
    "hash": "ad2bdc8ecc057115af97d19610ffacc2b4e99fae6737bb82f5d7fb13d2f2c186"
   }
  }
 },
 "nbformat": 4,
 "nbformat_minor": 2
}
